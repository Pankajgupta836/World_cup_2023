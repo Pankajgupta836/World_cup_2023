{
 "cells": [
  {
   "cell_type": "code",
   "execution_count": 1,
   "metadata": {},
   "outputs": [],
   "source": [
    "import pandas as pd\n",
    "import numpy as np\n",
    "import matplotlib.pyplot as plt"
   ]
  },
  {
   "cell_type": "code",
   "execution_count": 2,
   "metadata": {},
   "outputs": [],
   "source": [
    "matches = pd.read_csv(r\"D:\\download\\World Cup 2023\\matches.csv\")\n",
    "point_table = pd.read_csv(r\"D:\\download\\World Cup 2023\\points_table.csv\")\n",
    "deliveries = pd.read_csv(r\"D:\\download\\World Cup 2023\\deliveries.csv\")"
   ]
  },
  {
   "cell_type": "code",
   "execution_count": 3,
   "metadata": {},
   "outputs": [
    {
     "data": {
      "text/html": [
       "<div>\n",
       "<style scoped>\n",
       "    .dataframe tbody tr th:only-of-type {\n",
       "        vertical-align: middle;\n",
       "    }\n",
       "\n",
       "    .dataframe tbody tr th {\n",
       "        vertical-align: top;\n",
       "    }\n",
       "\n",
       "    .dataframe thead th {\n",
       "        text-align: right;\n",
       "    }\n",
       "</style>\n",
       "<table border=\"1\" class=\"dataframe\">\n",
       "  <thead>\n",
       "    <tr style=\"text-align: right;\">\n",
       "      <th></th>\n",
       "      <th>season</th>\n",
       "      <th>team1</th>\n",
       "      <th>team2</th>\n",
       "      <th>date</th>\n",
       "      <th>match_number</th>\n",
       "      <th>venue</th>\n",
       "      <th>city</th>\n",
       "      <th>toss_winner</th>\n",
       "      <th>toss_decision</th>\n",
       "      <th>player_of_match</th>\n",
       "      <th>umpire1</th>\n",
       "      <th>umpire2</th>\n",
       "      <th>reserve_umpire</th>\n",
       "      <th>match_referee</th>\n",
       "      <th>winner</th>\n",
       "      <th>winner_runs</th>\n",
       "      <th>winner_wickets</th>\n",
       "      <th>match_type</th>\n",
       "    </tr>\n",
       "  </thead>\n",
       "  <tbody>\n",
       "    <tr>\n",
       "      <th>0</th>\n",
       "      <td>2023/24</td>\n",
       "      <td>England</td>\n",
       "      <td>New Zealand</td>\n",
       "      <td>2023/10/05</td>\n",
       "      <td>1</td>\n",
       "      <td>Narendra Modi Stadium</td>\n",
       "      <td>Ahmedabad</td>\n",
       "      <td>New Zealand</td>\n",
       "      <td>field</td>\n",
       "      <td>R Ravindra</td>\n",
       "      <td>HDPK Dharmasena</td>\n",
       "      <td>Nitin Menon</td>\n",
       "      <td>Sharfuddoula</td>\n",
       "      <td>J Srinath</td>\n",
       "      <td>New Zealand</td>\n",
       "      <td>NaN</td>\n",
       "      <td>9.0</td>\n",
       "      <td>Group</td>\n",
       "    </tr>\n",
       "    <tr>\n",
       "      <th>1</th>\n",
       "      <td>2023/24</td>\n",
       "      <td>Pakistan</td>\n",
       "      <td>Netherlands</td>\n",
       "      <td>2023/10/06</td>\n",
       "      <td>2</td>\n",
       "      <td>Rajiv Gandhi International Stadium</td>\n",
       "      <td>Hyderabad</td>\n",
       "      <td>Netherlands</td>\n",
       "      <td>field</td>\n",
       "      <td>Saud Shakeel</td>\n",
       "      <td>AT Holdstock</td>\n",
       "      <td>CM Brown</td>\n",
       "      <td>PR Reiffel</td>\n",
       "      <td>JJ Crowe</td>\n",
       "      <td>Pakistan</td>\n",
       "      <td>81.0</td>\n",
       "      <td>NaN</td>\n",
       "      <td>Group</td>\n",
       "    </tr>\n",
       "    <tr>\n",
       "      <th>2</th>\n",
       "      <td>2023/24</td>\n",
       "      <td>Afghanistan</td>\n",
       "      <td>Bangladesh</td>\n",
       "      <td>2023/10/07</td>\n",
       "      <td>3</td>\n",
       "      <td>Himachal Pradesh Cricket Association Stadium</td>\n",
       "      <td>Dharamsala</td>\n",
       "      <td>Bangladesh</td>\n",
       "      <td>field</td>\n",
       "      <td>Mehedi Hasan Miraz</td>\n",
       "      <td>JS Wilson</td>\n",
       "      <td>HDPK Dharmasena</td>\n",
       "      <td>M Erasmus</td>\n",
       "      <td>AJ Pycroft</td>\n",
       "      <td>Bangladesh</td>\n",
       "      <td>NaN</td>\n",
       "      <td>6.0</td>\n",
       "      <td>Group</td>\n",
       "    </tr>\n",
       "    <tr>\n",
       "      <th>3</th>\n",
       "      <td>2023/24</td>\n",
       "      <td>South Africa</td>\n",
       "      <td>Sri Lanka</td>\n",
       "      <td>2023/10/07</td>\n",
       "      <td>4</td>\n",
       "      <td>Arun Jaitley Stadium</td>\n",
       "      <td>Delhi</td>\n",
       "      <td>Sri Lanka</td>\n",
       "      <td>field</td>\n",
       "      <td>AK Markram</td>\n",
       "      <td>RK Illingworth</td>\n",
       "      <td>Sharfuddoula</td>\n",
       "      <td>AG Wharf</td>\n",
       "      <td>J Srinath</td>\n",
       "      <td>South Africa</td>\n",
       "      <td>102.0</td>\n",
       "      <td>NaN</td>\n",
       "      <td>Group</td>\n",
       "    </tr>\n",
       "    <tr>\n",
       "      <th>4</th>\n",
       "      <td>2023/24</td>\n",
       "      <td>Australia</td>\n",
       "      <td>India</td>\n",
       "      <td>2023/10/08</td>\n",
       "      <td>5</td>\n",
       "      <td>MA Chidambaram Stadium</td>\n",
       "      <td>Chennai</td>\n",
       "      <td>Australia</td>\n",
       "      <td>bat</td>\n",
       "      <td>KL Rahul</td>\n",
       "      <td>CB Gaffaney</td>\n",
       "      <td>RA Kettleborough</td>\n",
       "      <td>AT Holdstock</td>\n",
       "      <td>RB Richardson</td>\n",
       "      <td>India</td>\n",
       "      <td>NaN</td>\n",
       "      <td>6.0</td>\n",
       "      <td>Group</td>\n",
       "    </tr>\n",
       "  </tbody>\n",
       "</table>\n",
       "</div>"
      ],
      "text/plain": [
       "    season         team1        team2        date  match_number  \\\n",
       "0  2023/24       England  New Zealand  2023/10/05             1   \n",
       "1  2023/24      Pakistan  Netherlands  2023/10/06             2   \n",
       "2  2023/24   Afghanistan   Bangladesh  2023/10/07             3   \n",
       "3  2023/24  South Africa    Sri Lanka  2023/10/07             4   \n",
       "4  2023/24     Australia        India  2023/10/08             5   \n",
       "\n",
       "                                          venue        city  toss_winner  \\\n",
       "0                         Narendra Modi Stadium   Ahmedabad  New Zealand   \n",
       "1            Rajiv Gandhi International Stadium   Hyderabad  Netherlands   \n",
       "2  Himachal Pradesh Cricket Association Stadium  Dharamsala   Bangladesh   \n",
       "3                          Arun Jaitley Stadium       Delhi    Sri Lanka   \n",
       "4                        MA Chidambaram Stadium     Chennai    Australia   \n",
       "\n",
       "  toss_decision     player_of_match          umpire1           umpire2  \\\n",
       "0         field          R Ravindra  HDPK Dharmasena       Nitin Menon   \n",
       "1         field        Saud Shakeel     AT Holdstock          CM Brown   \n",
       "2         field  Mehedi Hasan Miraz        JS Wilson   HDPK Dharmasena   \n",
       "3         field          AK Markram   RK Illingworth      Sharfuddoula   \n",
       "4           bat            KL Rahul      CB Gaffaney  RA Kettleborough   \n",
       "\n",
       "  reserve_umpire  match_referee        winner  winner_runs  winner_wickets  \\\n",
       "0   Sharfuddoula      J Srinath   New Zealand          NaN             9.0   \n",
       "1     PR Reiffel       JJ Crowe      Pakistan         81.0             NaN   \n",
       "2      M Erasmus     AJ Pycroft    Bangladesh          NaN             6.0   \n",
       "3       AG Wharf      J Srinath  South Africa        102.0             NaN   \n",
       "4   AT Holdstock  RB Richardson         India          NaN             6.0   \n",
       "\n",
       "  match_type  \n",
       "0      Group  \n",
       "1      Group  \n",
       "2      Group  \n",
       "3      Group  \n",
       "4      Group  "
      ]
     },
     "execution_count": 3,
     "metadata": {},
     "output_type": "execute_result"
    }
   ],
   "source": [
    "matches.head()"
   ]
  },
  {
   "cell_type": "code",
   "execution_count": 4,
   "metadata": {},
   "outputs": [
    {
     "name": "stdout",
     "output_type": "stream",
     "text": [
      "<class 'pandas.core.frame.DataFrame'>\n",
      "RangeIndex: 48 entries, 0 to 47\n",
      "Data columns (total 18 columns):\n",
      " #   Column           Non-Null Count  Dtype  \n",
      "---  ------           --------------  -----  \n",
      " 0   season           48 non-null     object \n",
      " 1   team1            48 non-null     object \n",
      " 2   team2            48 non-null     object \n",
      " 3   date             48 non-null     object \n",
      " 4   match_number     48 non-null     int64  \n",
      " 5   venue            48 non-null     object \n",
      " 6   city             48 non-null     object \n",
      " 7   toss_winner      48 non-null     object \n",
      " 8   toss_decision    48 non-null     object \n",
      " 9   player_of_match  48 non-null     object \n",
      " 10  umpire1          48 non-null     object \n",
      " 11  umpire2          48 non-null     object \n",
      " 12  reserve_umpire   47 non-null     object \n",
      " 13  match_referee    48 non-null     object \n",
      " 14  winner           48 non-null     object \n",
      " 15  winner_runs      24 non-null     float64\n",
      " 16  winner_wickets   24 non-null     float64\n",
      " 17  match_type       48 non-null     object \n",
      "dtypes: float64(2), int64(1), object(15)\n",
      "memory usage: 6.9+ KB\n"
     ]
    }
   ],
   "source": [
    "matches.info()"
   ]
  },
  {
   "cell_type": "code",
   "execution_count": 5,
   "metadata": {},
   "outputs": [
    {
     "data": {
      "text/html": [
       "<div>\n",
       "<style scoped>\n",
       "    .dataframe tbody tr th:only-of-type {\n",
       "        vertical-align: middle;\n",
       "    }\n",
       "\n",
       "    .dataframe tbody tr th {\n",
       "        vertical-align: top;\n",
       "    }\n",
       "\n",
       "    .dataframe thead th {\n",
       "        text-align: right;\n",
       "    }\n",
       "</style>\n",
       "<table border=\"1\" class=\"dataframe\">\n",
       "  <thead>\n",
       "    <tr style=\"text-align: right;\">\n",
       "      <th></th>\n",
       "      <th>season</th>\n",
       "      <th>team1</th>\n",
       "      <th>team2</th>\n",
       "      <th>date</th>\n",
       "      <th>match_number</th>\n",
       "      <th>venue</th>\n",
       "      <th>city</th>\n",
       "      <th>toss_winner</th>\n",
       "      <th>toss_decision</th>\n",
       "      <th>player_of_match</th>\n",
       "      <th>umpire1</th>\n",
       "      <th>umpire2</th>\n",
       "      <th>reserve_umpire</th>\n",
       "      <th>match_referee</th>\n",
       "      <th>winner</th>\n",
       "      <th>winner_runs</th>\n",
       "      <th>winner_wickets</th>\n",
       "      <th>match_type</th>\n",
       "    </tr>\n",
       "  </thead>\n",
       "  <tbody>\n",
       "    <tr>\n",
       "      <th>43</th>\n",
       "      <td>2023/24</td>\n",
       "      <td>England</td>\n",
       "      <td>Pakistan</td>\n",
       "      <td>2023/11/11</td>\n",
       "      <td>44</td>\n",
       "      <td>Eden Gardens</td>\n",
       "      <td>Kolkata</td>\n",
       "      <td>England</td>\n",
       "      <td>bat</td>\n",
       "      <td>DJ Willey</td>\n",
       "      <td>P Wilson</td>\n",
       "      <td>RJ Tucker</td>\n",
       "      <td>PR Reiffel</td>\n",
       "      <td>J Srinath</td>\n",
       "      <td>England</td>\n",
       "      <td>93.0</td>\n",
       "      <td>NaN</td>\n",
       "      <td>Group</td>\n",
       "    </tr>\n",
       "    <tr>\n",
       "      <th>44</th>\n",
       "      <td>2023/24</td>\n",
       "      <td>India</td>\n",
       "      <td>Netherlands</td>\n",
       "      <td>2023/11/12</td>\n",
       "      <td>45</td>\n",
       "      <td>M Chinnaswamy Stadium</td>\n",
       "      <td>Bengaluru</td>\n",
       "      <td>India</td>\n",
       "      <td>bat</td>\n",
       "      <td>SS Iyer</td>\n",
       "      <td>CB Gaffaney</td>\n",
       "      <td>MA Gough</td>\n",
       "      <td>CM Brown</td>\n",
       "      <td>RB Richardson</td>\n",
       "      <td>India</td>\n",
       "      <td>160.0</td>\n",
       "      <td>NaN</td>\n",
       "      <td>Group</td>\n",
       "    </tr>\n",
       "    <tr>\n",
       "      <th>45</th>\n",
       "      <td>2023/24</td>\n",
       "      <td>India</td>\n",
       "      <td>New Zealand</td>\n",
       "      <td>2023/11/15</td>\n",
       "      <td>46</td>\n",
       "      <td>Wankhede Stadium</td>\n",
       "      <td>Mumbai</td>\n",
       "      <td>India</td>\n",
       "      <td>bat</td>\n",
       "      <td>Mohammed Shami</td>\n",
       "      <td>RK Illingworth</td>\n",
       "      <td>RJ Tucker</td>\n",
       "      <td>AT Holdstock</td>\n",
       "      <td>AJ Pycroft</td>\n",
       "      <td>India</td>\n",
       "      <td>70.0</td>\n",
       "      <td>NaN</td>\n",
       "      <td>Semi Final</td>\n",
       "    </tr>\n",
       "    <tr>\n",
       "      <th>46</th>\n",
       "      <td>2023/24</td>\n",
       "      <td>South Africa</td>\n",
       "      <td>Australia</td>\n",
       "      <td>2023/11/16</td>\n",
       "      <td>47</td>\n",
       "      <td>Eden Gardens</td>\n",
       "      <td>Kolkata</td>\n",
       "      <td>South Africa</td>\n",
       "      <td>bat</td>\n",
       "      <td>TM Head</td>\n",
       "      <td>Nitin Menon</td>\n",
       "      <td>RA Kettleborough</td>\n",
       "      <td>MA Gough</td>\n",
       "      <td>J Srinath</td>\n",
       "      <td>Australia</td>\n",
       "      <td>NaN</td>\n",
       "      <td>3.0</td>\n",
       "      <td>Semi Final</td>\n",
       "    </tr>\n",
       "    <tr>\n",
       "      <th>47</th>\n",
       "      <td>2023/24</td>\n",
       "      <td>India</td>\n",
       "      <td>Australia</td>\n",
       "      <td>2023/11/19</td>\n",
       "      <td>48</td>\n",
       "      <td>Narendra Modi Stadium</td>\n",
       "      <td>Ahmedabad</td>\n",
       "      <td>Australia</td>\n",
       "      <td>field</td>\n",
       "      <td>TM Head</td>\n",
       "      <td>RK Illingworth</td>\n",
       "      <td>RA Kettleborough</td>\n",
       "      <td>CB Gaffaney</td>\n",
       "      <td>AJ Pycroft</td>\n",
       "      <td>Australia</td>\n",
       "      <td>NaN</td>\n",
       "      <td>6.0</td>\n",
       "      <td>Final</td>\n",
       "    </tr>\n",
       "  </tbody>\n",
       "</table>\n",
       "</div>"
      ],
      "text/plain": [
       "     season         team1        team2        date  match_number  \\\n",
       "43  2023/24       England     Pakistan  2023/11/11            44   \n",
       "44  2023/24         India  Netherlands  2023/11/12            45   \n",
       "45  2023/24         India  New Zealand  2023/11/15            46   \n",
       "46  2023/24  South Africa    Australia  2023/11/16            47   \n",
       "47  2023/24         India    Australia  2023/11/19            48   \n",
       "\n",
       "                    venue       city   toss_winner toss_decision  \\\n",
       "43           Eden Gardens    Kolkata       England           bat   \n",
       "44  M Chinnaswamy Stadium  Bengaluru         India           bat   \n",
       "45       Wankhede Stadium     Mumbai         India           bat   \n",
       "46           Eden Gardens    Kolkata  South Africa           bat   \n",
       "47  Narendra Modi Stadium  Ahmedabad     Australia         field   \n",
       "\n",
       "   player_of_match         umpire1           umpire2 reserve_umpire  \\\n",
       "43       DJ Willey        P Wilson         RJ Tucker     PR Reiffel   \n",
       "44         SS Iyer     CB Gaffaney          MA Gough       CM Brown   \n",
       "45  Mohammed Shami  RK Illingworth         RJ Tucker   AT Holdstock   \n",
       "46         TM Head     Nitin Menon  RA Kettleborough       MA Gough   \n",
       "47         TM Head  RK Illingworth  RA Kettleborough    CB Gaffaney   \n",
       "\n",
       "    match_referee     winner  winner_runs  winner_wickets  match_type  \n",
       "43      J Srinath    England         93.0             NaN       Group  \n",
       "44  RB Richardson      India        160.0             NaN       Group  \n",
       "45     AJ Pycroft      India         70.0             NaN  Semi Final  \n",
       "46      J Srinath  Australia          NaN             3.0  Semi Final  \n",
       "47     AJ Pycroft  Australia          NaN             6.0       Final  "
      ]
     },
     "execution_count": 5,
     "metadata": {},
     "output_type": "execute_result"
    }
   ],
   "source": [
    "matches.tail()"
   ]
  },
  {
   "cell_type": "code",
   "execution_count": 6,
   "metadata": {},
   "outputs": [
    {
     "data": {
      "text/plain": [
       "season              0\n",
       "team1               0\n",
       "team2               0\n",
       "date                0\n",
       "match_number        0\n",
       "venue               0\n",
       "city                0\n",
       "toss_winner         0\n",
       "toss_decision       0\n",
       "player_of_match     0\n",
       "umpire1             0\n",
       "umpire2             0\n",
       "reserve_umpire      1\n",
       "match_referee       0\n",
       "winner              0\n",
       "winner_runs        24\n",
       "winner_wickets     24\n",
       "match_type          0\n",
       "dtype: int64"
      ]
     },
     "execution_count": 6,
     "metadata": {},
     "output_type": "execute_result"
    }
   ],
   "source": [
    "matches.isnull().sum()"
   ]
  },
  {
   "cell_type": "code",
   "execution_count": 7,
   "metadata": {},
   "outputs": [
    {
     "data": {
      "text/html": [
       "<div>\n",
       "<style scoped>\n",
       "    .dataframe tbody tr th:only-of-type {\n",
       "        vertical-align: middle;\n",
       "    }\n",
       "\n",
       "    .dataframe tbody tr th {\n",
       "        vertical-align: top;\n",
       "    }\n",
       "\n",
       "    .dataframe thead th {\n",
       "        text-align: right;\n",
       "    }\n",
       "</style>\n",
       "<table border=\"1\" class=\"dataframe\">\n",
       "  <thead>\n",
       "    <tr style=\"text-align: right;\">\n",
       "      <th></th>\n",
       "      <th>match_id</th>\n",
       "      <th>season</th>\n",
       "      <th>start_date</th>\n",
       "      <th>venue</th>\n",
       "      <th>innings</th>\n",
       "      <th>ball</th>\n",
       "      <th>batting_team</th>\n",
       "      <th>bowling_team</th>\n",
       "      <th>striker</th>\n",
       "      <th>non_striker</th>\n",
       "      <th>...</th>\n",
       "      <th>extras</th>\n",
       "      <th>wides</th>\n",
       "      <th>noballs</th>\n",
       "      <th>byes</th>\n",
       "      <th>legbyes</th>\n",
       "      <th>penalty</th>\n",
       "      <th>wicket_type</th>\n",
       "      <th>player_dismissed</th>\n",
       "      <th>other_wicket_type</th>\n",
       "      <th>other_player_dismissed</th>\n",
       "    </tr>\n",
       "  </thead>\n",
       "  <tbody>\n",
       "    <tr>\n",
       "      <th>0</th>\n",
       "      <td>1</td>\n",
       "      <td>2023/24</td>\n",
       "      <td>2023-10-05</td>\n",
       "      <td>Narendra Modi Stadium, Ahmedabad</td>\n",
       "      <td>1</td>\n",
       "      <td>0.1</td>\n",
       "      <td>England</td>\n",
       "      <td>New Zealand</td>\n",
       "      <td>JM Bairstow</td>\n",
       "      <td>DJ Malan</td>\n",
       "      <td>...</td>\n",
       "      <td>0</td>\n",
       "      <td>NaN</td>\n",
       "      <td>NaN</td>\n",
       "      <td>NaN</td>\n",
       "      <td>NaN</td>\n",
       "      <td>NaN</td>\n",
       "      <td>NaN</td>\n",
       "      <td>NaN</td>\n",
       "      <td>NaN</td>\n",
       "      <td>NaN</td>\n",
       "    </tr>\n",
       "    <tr>\n",
       "      <th>1</th>\n",
       "      <td>1</td>\n",
       "      <td>2023/24</td>\n",
       "      <td>2023-10-05</td>\n",
       "      <td>Narendra Modi Stadium, Ahmedabad</td>\n",
       "      <td>1</td>\n",
       "      <td>0.2</td>\n",
       "      <td>England</td>\n",
       "      <td>New Zealand</td>\n",
       "      <td>JM Bairstow</td>\n",
       "      <td>DJ Malan</td>\n",
       "      <td>...</td>\n",
       "      <td>0</td>\n",
       "      <td>NaN</td>\n",
       "      <td>NaN</td>\n",
       "      <td>NaN</td>\n",
       "      <td>NaN</td>\n",
       "      <td>NaN</td>\n",
       "      <td>NaN</td>\n",
       "      <td>NaN</td>\n",
       "      <td>NaN</td>\n",
       "      <td>NaN</td>\n",
       "    </tr>\n",
       "    <tr>\n",
       "      <th>2</th>\n",
       "      <td>1</td>\n",
       "      <td>2023/24</td>\n",
       "      <td>2023-10-05</td>\n",
       "      <td>Narendra Modi Stadium, Ahmedabad</td>\n",
       "      <td>1</td>\n",
       "      <td>0.3</td>\n",
       "      <td>England</td>\n",
       "      <td>New Zealand</td>\n",
       "      <td>JM Bairstow</td>\n",
       "      <td>DJ Malan</td>\n",
       "      <td>...</td>\n",
       "      <td>0</td>\n",
       "      <td>NaN</td>\n",
       "      <td>NaN</td>\n",
       "      <td>NaN</td>\n",
       "      <td>NaN</td>\n",
       "      <td>NaN</td>\n",
       "      <td>NaN</td>\n",
       "      <td>NaN</td>\n",
       "      <td>NaN</td>\n",
       "      <td>NaN</td>\n",
       "    </tr>\n",
       "    <tr>\n",
       "      <th>3</th>\n",
       "      <td>1</td>\n",
       "      <td>2023/24</td>\n",
       "      <td>2023-10-05</td>\n",
       "      <td>Narendra Modi Stadium, Ahmedabad</td>\n",
       "      <td>1</td>\n",
       "      <td>0.4</td>\n",
       "      <td>England</td>\n",
       "      <td>New Zealand</td>\n",
       "      <td>DJ Malan</td>\n",
       "      <td>JM Bairstow</td>\n",
       "      <td>...</td>\n",
       "      <td>0</td>\n",
       "      <td>NaN</td>\n",
       "      <td>NaN</td>\n",
       "      <td>NaN</td>\n",
       "      <td>NaN</td>\n",
       "      <td>NaN</td>\n",
       "      <td>NaN</td>\n",
       "      <td>NaN</td>\n",
       "      <td>NaN</td>\n",
       "      <td>NaN</td>\n",
       "    </tr>\n",
       "    <tr>\n",
       "      <th>4</th>\n",
       "      <td>1</td>\n",
       "      <td>2023/24</td>\n",
       "      <td>2023-10-05</td>\n",
       "      <td>Narendra Modi Stadium, Ahmedabad</td>\n",
       "      <td>1</td>\n",
       "      <td>0.5</td>\n",
       "      <td>England</td>\n",
       "      <td>New Zealand</td>\n",
       "      <td>JM Bairstow</td>\n",
       "      <td>DJ Malan</td>\n",
       "      <td>...</td>\n",
       "      <td>0</td>\n",
       "      <td>NaN</td>\n",
       "      <td>NaN</td>\n",
       "      <td>NaN</td>\n",
       "      <td>NaN</td>\n",
       "      <td>NaN</td>\n",
       "      <td>NaN</td>\n",
       "      <td>NaN</td>\n",
       "      <td>NaN</td>\n",
       "      <td>NaN</td>\n",
       "    </tr>\n",
       "    <tr>\n",
       "      <th>...</th>\n",
       "      <td>...</td>\n",
       "      <td>...</td>\n",
       "      <td>...</td>\n",
       "      <td>...</td>\n",
       "      <td>...</td>\n",
       "      <td>...</td>\n",
       "      <td>...</td>\n",
       "      <td>...</td>\n",
       "      <td>...</td>\n",
       "      <td>...</td>\n",
       "      <td>...</td>\n",
       "      <td>...</td>\n",
       "      <td>...</td>\n",
       "      <td>...</td>\n",
       "      <td>...</td>\n",
       "      <td>...</td>\n",
       "      <td>...</td>\n",
       "      <td>...</td>\n",
       "      <td>...</td>\n",
       "      <td>...</td>\n",
       "      <td>...</td>\n",
       "    </tr>\n",
       "    <tr>\n",
       "      <th>26114</th>\n",
       "      <td>45</td>\n",
       "      <td>2023/24</td>\n",
       "      <td>2023-11-12</td>\n",
       "      <td>M Chinnaswamy Stadium, Bengaluru</td>\n",
       "      <td>2</td>\n",
       "      <td>47.1</td>\n",
       "      <td>Netherlands</td>\n",
       "      <td>India</td>\n",
       "      <td>PA van Meekeren</td>\n",
       "      <td>AT Nidamanuru</td>\n",
       "      <td>...</td>\n",
       "      <td>0</td>\n",
       "      <td>NaN</td>\n",
       "      <td>NaN</td>\n",
       "      <td>NaN</td>\n",
       "      <td>NaN</td>\n",
       "      <td>NaN</td>\n",
       "      <td>NaN</td>\n",
       "      <td>NaN</td>\n",
       "      <td>NaN</td>\n",
       "      <td>NaN</td>\n",
       "    </tr>\n",
       "    <tr>\n",
       "      <th>26115</th>\n",
       "      <td>45</td>\n",
       "      <td>2023/24</td>\n",
       "      <td>2023-11-12</td>\n",
       "      <td>M Chinnaswamy Stadium, Bengaluru</td>\n",
       "      <td>2</td>\n",
       "      <td>47.2</td>\n",
       "      <td>Netherlands</td>\n",
       "      <td>India</td>\n",
       "      <td>PA van Meekeren</td>\n",
       "      <td>AT Nidamanuru</td>\n",
       "      <td>...</td>\n",
       "      <td>0</td>\n",
       "      <td>NaN</td>\n",
       "      <td>NaN</td>\n",
       "      <td>NaN</td>\n",
       "      <td>NaN</td>\n",
       "      <td>NaN</td>\n",
       "      <td>NaN</td>\n",
       "      <td>NaN</td>\n",
       "      <td>NaN</td>\n",
       "      <td>NaN</td>\n",
       "    </tr>\n",
       "    <tr>\n",
       "      <th>26116</th>\n",
       "      <td>45</td>\n",
       "      <td>2023/24</td>\n",
       "      <td>2023-11-12</td>\n",
       "      <td>M Chinnaswamy Stadium, Bengaluru</td>\n",
       "      <td>2</td>\n",
       "      <td>47.3</td>\n",
       "      <td>Netherlands</td>\n",
       "      <td>India</td>\n",
       "      <td>AT Nidamanuru</td>\n",
       "      <td>PA van Meekeren</td>\n",
       "      <td>...</td>\n",
       "      <td>0</td>\n",
       "      <td>NaN</td>\n",
       "      <td>NaN</td>\n",
       "      <td>NaN</td>\n",
       "      <td>NaN</td>\n",
       "      <td>NaN</td>\n",
       "      <td>NaN</td>\n",
       "      <td>NaN</td>\n",
       "      <td>NaN</td>\n",
       "      <td>NaN</td>\n",
       "    </tr>\n",
       "    <tr>\n",
       "      <th>26117</th>\n",
       "      <td>45</td>\n",
       "      <td>2023/24</td>\n",
       "      <td>2023-11-12</td>\n",
       "      <td>M Chinnaswamy Stadium, Bengaluru</td>\n",
       "      <td>2</td>\n",
       "      <td>47.4</td>\n",
       "      <td>Netherlands</td>\n",
       "      <td>India</td>\n",
       "      <td>AT Nidamanuru</td>\n",
       "      <td>PA van Meekeren</td>\n",
       "      <td>...</td>\n",
       "      <td>0</td>\n",
       "      <td>NaN</td>\n",
       "      <td>NaN</td>\n",
       "      <td>NaN</td>\n",
       "      <td>NaN</td>\n",
       "      <td>NaN</td>\n",
       "      <td>NaN</td>\n",
       "      <td>NaN</td>\n",
       "      <td>NaN</td>\n",
       "      <td>NaN</td>\n",
       "    </tr>\n",
       "    <tr>\n",
       "      <th>26118</th>\n",
       "      <td>45</td>\n",
       "      <td>2023/24</td>\n",
       "      <td>2023-11-12</td>\n",
       "      <td>M Chinnaswamy Stadium, Bengaluru</td>\n",
       "      <td>2</td>\n",
       "      <td>47.5</td>\n",
       "      <td>Netherlands</td>\n",
       "      <td>India</td>\n",
       "      <td>AT Nidamanuru</td>\n",
       "      <td>PA van Meekeren</td>\n",
       "      <td>...</td>\n",
       "      <td>0</td>\n",
       "      <td>NaN</td>\n",
       "      <td>NaN</td>\n",
       "      <td>NaN</td>\n",
       "      <td>NaN</td>\n",
       "      <td>NaN</td>\n",
       "      <td>caught</td>\n",
       "      <td>AT Nidamanuru</td>\n",
       "      <td>NaN</td>\n",
       "      <td>NaN</td>\n",
       "    </tr>\n",
       "  </tbody>\n",
       "</table>\n",
       "<p>26119 rows × 22 columns</p>\n",
       "</div>"
      ],
      "text/plain": [
       "       match_id   season  start_date                             venue  \\\n",
       "0             1  2023/24  2023-10-05  Narendra Modi Stadium, Ahmedabad   \n",
       "1             1  2023/24  2023-10-05  Narendra Modi Stadium, Ahmedabad   \n",
       "2             1  2023/24  2023-10-05  Narendra Modi Stadium, Ahmedabad   \n",
       "3             1  2023/24  2023-10-05  Narendra Modi Stadium, Ahmedabad   \n",
       "4             1  2023/24  2023-10-05  Narendra Modi Stadium, Ahmedabad   \n",
       "...         ...      ...         ...                               ...   \n",
       "26114        45  2023/24  2023-11-12  M Chinnaswamy Stadium, Bengaluru   \n",
       "26115        45  2023/24  2023-11-12  M Chinnaswamy Stadium, Bengaluru   \n",
       "26116        45  2023/24  2023-11-12  M Chinnaswamy Stadium, Bengaluru   \n",
       "26117        45  2023/24  2023-11-12  M Chinnaswamy Stadium, Bengaluru   \n",
       "26118        45  2023/24  2023-11-12  M Chinnaswamy Stadium, Bengaluru   \n",
       "\n",
       "       innings  ball batting_team bowling_team          striker  \\\n",
       "0            1   0.1      England  New Zealand      JM Bairstow   \n",
       "1            1   0.2      England  New Zealand      JM Bairstow   \n",
       "2            1   0.3      England  New Zealand      JM Bairstow   \n",
       "3            1   0.4      England  New Zealand         DJ Malan   \n",
       "4            1   0.5      England  New Zealand      JM Bairstow   \n",
       "...        ...   ...          ...          ...              ...   \n",
       "26114        2  47.1  Netherlands        India  PA van Meekeren   \n",
       "26115        2  47.2  Netherlands        India  PA van Meekeren   \n",
       "26116        2  47.3  Netherlands        India    AT Nidamanuru   \n",
       "26117        2  47.4  Netherlands        India    AT Nidamanuru   \n",
       "26118        2  47.5  Netherlands        India    AT Nidamanuru   \n",
       "\n",
       "           non_striker  ... extras  wides  noballs  byes  legbyes  penalty  \\\n",
       "0             DJ Malan  ...      0    NaN      NaN   NaN      NaN      NaN   \n",
       "1             DJ Malan  ...      0    NaN      NaN   NaN      NaN      NaN   \n",
       "2             DJ Malan  ...      0    NaN      NaN   NaN      NaN      NaN   \n",
       "3          JM Bairstow  ...      0    NaN      NaN   NaN      NaN      NaN   \n",
       "4             DJ Malan  ...      0    NaN      NaN   NaN      NaN      NaN   \n",
       "...                ...  ...    ...    ...      ...   ...      ...      ...   \n",
       "26114    AT Nidamanuru  ...      0    NaN      NaN   NaN      NaN      NaN   \n",
       "26115    AT Nidamanuru  ...      0    NaN      NaN   NaN      NaN      NaN   \n",
       "26116  PA van Meekeren  ...      0    NaN      NaN   NaN      NaN      NaN   \n",
       "26117  PA van Meekeren  ...      0    NaN      NaN   NaN      NaN      NaN   \n",
       "26118  PA van Meekeren  ...      0    NaN      NaN   NaN      NaN      NaN   \n",
       "\n",
       "       wicket_type  player_dismissed other_wicket_type other_player_dismissed  \n",
       "0              NaN               NaN               NaN                    NaN  \n",
       "1              NaN               NaN               NaN                    NaN  \n",
       "2              NaN               NaN               NaN                    NaN  \n",
       "3              NaN               NaN               NaN                    NaN  \n",
       "4              NaN               NaN               NaN                    NaN  \n",
       "...            ...               ...               ...                    ...  \n",
       "26114          NaN               NaN               NaN                    NaN  \n",
       "26115          NaN               NaN               NaN                    NaN  \n",
       "26116          NaN               NaN               NaN                    NaN  \n",
       "26117          NaN               NaN               NaN                    NaN  \n",
       "26118       caught     AT Nidamanuru               NaN                    NaN  \n",
       "\n",
       "[26119 rows x 22 columns]"
      ]
     },
     "execution_count": 7,
     "metadata": {},
     "output_type": "execute_result"
    }
   ],
   "source": [
    "deliveries"
   ]
  },
  {
   "cell_type": "code",
   "execution_count": 8,
   "metadata": {},
   "outputs": [
    {
     "name": "stdout",
     "output_type": "stream",
     "text": [
      "<class 'pandas.core.frame.DataFrame'>\n",
      "RangeIndex: 26119 entries, 0 to 26118\n",
      "Data columns (total 22 columns):\n",
      " #   Column                  Non-Null Count  Dtype  \n",
      "---  ------                  --------------  -----  \n",
      " 0   match_id                26119 non-null  int64  \n",
      " 1   season                  26119 non-null  object \n",
      " 2   start_date              26119 non-null  object \n",
      " 3   venue                   26119 non-null  object \n",
      " 4   innings                 26119 non-null  int64  \n",
      " 5   ball                    26119 non-null  float64\n",
      " 6   batting_team            26119 non-null  object \n",
      " 7   bowling_team            26119 non-null  object \n",
      " 8   striker                 26119 non-null  object \n",
      " 9   non_striker             26119 non-null  object \n",
      " 10  bowler                  26119 non-null  object \n",
      " 11  runs_off_bat            26119 non-null  int64  \n",
      " 12  extras                  26119 non-null  int64  \n",
      " 13  wides                   665 non-null    float64\n",
      " 14  noballs                 56 non-null     float64\n",
      " 15  byes                    38 non-null     float64\n",
      " 16  legbyes                 193 non-null    float64\n",
      " 17  penalty                 1 non-null      float64\n",
      " 18  wicket_type             729 non-null    object \n",
      " 19  player_dismissed        729 non-null    object \n",
      " 20  other_wicket_type       1 non-null      object \n",
      " 21  other_player_dismissed  1 non-null      object \n",
      "dtypes: float64(6), int64(4), object(12)\n",
      "memory usage: 4.4+ MB\n"
     ]
    }
   ],
   "source": [
    "deliveries.info()"
   ]
  },
  {
   "cell_type": "markdown",
   "metadata": {},
   "source": [
    "# Run Analysis "
   ]
  },
  {
   "cell_type": "code",
   "execution_count": 9,
   "metadata": {},
   "outputs": [],
   "source": [
    "Total_Run = deliveries['runs_off_bat'].sum() + deliveries['extras'].sum()"
   ]
  },
  {
   "cell_type": "code",
   "execution_count": 10,
   "metadata": {},
   "outputs": [
    {
     "data": {
      "text/plain": [
       "23427"
      ]
     },
     "execution_count": 10,
     "metadata": {},
     "output_type": "execute_result"
    }
   ],
   "source": [
    "deliveries['runs_off_bat'].sum() "
   ]
  },
  {
   "cell_type": "markdown",
   "metadata": {},
   "source": []
  },
  {
   "cell_type": "code",
   "execution_count": 11,
   "metadata": {},
   "outputs": [
    {
     "data": {
      "text/plain": [
       "Index(['V Kohli', 'RG Sharma', 'Q de Kock', 'R Ravindra', 'DJ Mitchell',\n",
       "       'DA Warner', 'SS Iyer', 'KL Rahul', 'HE van der Dussen', 'MR Marsh'],\n",
       "      dtype='object', name='striker')"
      ]
     },
     "execution_count": 11,
     "metadata": {},
     "output_type": "execute_result"
    }
   ],
   "source": [
    "deliveries.groupby('striker')['runs_off_bat'].sum().sort_values(ascending=False).head(10).index"
   ]
  },
  {
   "cell_type": "code",
   "execution_count": 12,
   "metadata": {
    "scrolled": true
   },
   "outputs": [
    {
     "data": {
      "image/png": "[encoded data removed]",
      "text/plain": [
       "<Figure size 432x288 with 1 Axes>"
      ]
     },
     "metadata": {
      "needs_background": "light"
     },
     "output_type": "display_data"
    }
   ],
   "source": [
    "plt.bar(deliveries.groupby('striker')['runs_off_bat'].sum().sort_values(ascending=False).head(10).index, deliveries.groupby('striker')['runs_off_bat'].sum().sort_values(ascending=False).head(10).values)\n",
    "plt.title('Highest runs scorer(Top 10)')\n",
    "plt.xticks(rotation='vertical')\n",
    "plt.show()"
   ]
  },
  {
   "cell_type": "code",
   "execution_count": 13,
   "metadata": {},
   "outputs": [],
   "source": [
    "deliveries['partnership'] = deliveries['striker'] + \" & \" + deliveries['non_striker']"
   ]
  },
  {
   "cell_type": "code",
   "execution_count": 14,
   "metadata": {},
   "outputs": [
    {
     "data": {
      "image/png": "[encoded data removed]",
      "text/plain": [
       "<Figure size 432x288 with 1 Axes>"
      ]
     },
     "metadata": {
      "needs_background": "light"
     },
     "output_type": "display_data"
    }
   ],
   "source": [
    "plt.bar(deliveries.groupby('partnership')['runs_off_bat'].sum().sort_values(ascending=False).head(10).index, deliveries.groupby('partnership')['runs_off_bat'].sum().sort_values(ascending=False).head(10).values)\n",
    "plt.title('Partnership(Top 10)')\n",
    "plt.xticks(rotation='vertical')\n",
    "plt.show()"
   ]
  },
  {
   "cell_type": "code",
   "execution_count": 15,
   "metadata": {},
   "outputs": [],
   "source": [
    "Partnership = deliveries.groupby(['partnership','match_id'])['runs_off_bat'].sum().sort_values(ascending=False)\n",
    "grouped_data = Partnership.groupby(level=[0, 1]).mean()\n",
    "grouped_data = grouped_data.reset_index()"
   ]
  },
  {
   "cell_type": "code",
   "execution_count": 16,
   "metadata": {},
   "outputs": [],
   "source": [
    "partnership  = grouped_data.sort_values('runs_off_bat', ascending=False).head(10)"
   ]
  },
  {
   "cell_type": "code",
   "execution_count": 17,
   "metadata": {},
   "outputs": [
    {
     "data": {
      "text/html": [
       "<div>\n",
       "<style scoped>\n",
       "    .dataframe tbody tr th:only-of-type {\n",
       "        vertical-align: middle;\n",
       "    }\n",
       "\n",
       "    .dataframe tbody tr th {\n",
       "        vertical-align: top;\n",
       "    }\n",
       "\n",
       "    .dataframe thead th {\n",
       "        text-align: right;\n",
       "    }\n",
       "</style>\n",
       "<table border=\"1\" class=\"dataframe\">\n",
       "  <thead>\n",
       "    <tr style=\"text-align: right;\">\n",
       "      <th></th>\n",
       "      <th>partnership</th>\n",
       "      <th>match_id</th>\n",
       "      <th>runs_off_bat</th>\n",
       "    </tr>\n",
       "  </thead>\n",
       "  <tbody>\n",
       "    <tr>\n",
       "      <th>397</th>\n",
       "      <td>GJ Maxwell &amp; PJ Cummins</td>\n",
       "      <td>39</td>\n",
       "      <td>179</td>\n",
       "    </tr>\n",
       "    <tr>\n",
       "      <th>338</th>\n",
       "      <td>DP Conway &amp; R Ravindra</td>\n",
       "      <td>1</td>\n",
       "      <td>142</td>\n",
       "    </tr>\n",
       "    <tr>\n",
       "      <th>1388</th>\n",
       "      <td>TM Head &amp; M Labuschagne</td>\n",
       "      <td>48</td>\n",
       "      <td>127</td>\n",
       "    </tr>\n",
       "    <tr>\n",
       "      <th>354</th>\n",
       "      <td>Fakhar Zaman &amp; Babar Azam</td>\n",
       "      <td>35</td>\n",
       "      <td>125</td>\n",
       "    </tr>\n",
       "    <tr>\n",
       "      <th>256</th>\n",
       "      <td>DA Warner &amp; MR Marsh</td>\n",
       "      <td>18</td>\n",
       "      <td>124</td>\n",
       "    </tr>\n",
       "    <tr>\n",
       "      <th>1087</th>\n",
       "      <td>R Ravindra &amp; DP Conway</td>\n",
       "      <td>1</td>\n",
       "      <td>123</td>\n",
       "    </tr>\n",
       "    <tr>\n",
       "      <th>850</th>\n",
       "      <td>MR Marsh &amp; DA Warner</td>\n",
       "      <td>18</td>\n",
       "      <td>121</td>\n",
       "    </tr>\n",
       "    <tr>\n",
       "      <th>857</th>\n",
       "      <td>MR Marsh &amp; SPD Smith</td>\n",
       "      <td>43</td>\n",
       "      <td>109</td>\n",
       "    </tr>\n",
       "    <tr>\n",
       "      <th>641</th>\n",
       "      <td>KL Rahul &amp; SS Iyer</td>\n",
       "      <td>45</td>\n",
       "      <td>102</td>\n",
       "    </tr>\n",
       "    <tr>\n",
       "      <th>1122</th>\n",
       "      <td>RG Sharma &amp; Ishan Kishan</td>\n",
       "      <td>9</td>\n",
       "      <td>102</td>\n",
       "    </tr>\n",
       "  </tbody>\n",
       "</table>\n",
       "</div>"
      ],
      "text/plain": [
       "                    partnership  match_id  runs_off_bat\n",
       "397     GJ Maxwell & PJ Cummins        39           179\n",
       "338      DP Conway & R Ravindra         1           142\n",
       "1388    TM Head & M Labuschagne        48           127\n",
       "354   Fakhar Zaman & Babar Azam        35           125\n",
       "256        DA Warner & MR Marsh        18           124\n",
       "1087     R Ravindra & DP Conway         1           123\n",
       "850        MR Marsh & DA Warner        18           121\n",
       "857        MR Marsh & SPD Smith        43           109\n",
       "641          KL Rahul & SS Iyer        45           102\n",
       "1122   RG Sharma & Ishan Kishan         9           102"
      ]
     },
     "execution_count": 17,
     "metadata": {},
     "output_type": "execute_result"
    }
   ],
   "source": [
    "partnership"
   ]
  },
  {
   "cell_type": "code",
   "execution_count": 18,
   "metadata": {},
   "outputs": [
    {
     "data": {
      "image/png": "[encoded data removed]",
      "text/plain": [
       "<Figure size 432x288 with 1 Axes>"
      ]
     },
     "metadata": {
      "needs_background": "light"
     },
     "output_type": "display_data"
    }
   ],
   "source": [
    "plt.bar(partnership['partnership'], partnership['runs_off_bat'].head(10))\n",
    "plt.title('Partnership(Top 10)')\n",
    "plt.xticks(rotation='vertical')\n",
    "plt.show()"
   ]
  },
  {
   "cell_type": "code",
   "execution_count": 19,
   "metadata": {},
   "outputs": [],
   "source": [
    "Total_run = deliveries.groupby('striker')['runs_off_bat'].sum().sort_values(ascending=False)"
   ]
  },
  {
   "cell_type": "code",
   "execution_count": 20,
   "metadata": {},
   "outputs": [],
   "source": [
    "Ball_faced = deliveries.groupby('striker')['runs_off_bat'].count().sort_values(ascending=False)\n"
   ]
  },
  {
   "cell_type": "code",
   "execution_count": 21,
   "metadata": {},
   "outputs": [
    {
     "data": {
      "text/plain": [
       "striker\n",
       "RJW Topley          177.777778\n",
       "GJ Maxwell          147.601476\n",
       "AAP Atkinson        142.307692\n",
       "HH Pandya           137.500000\n",
       "H Klaasen           129.965157\n",
       "MA Wood             128.787879\n",
       "Mujeeb Ur Rahman    127.500000\n",
       "TM Head             126.053640\n",
       "MJ Santner          125.609756\n",
       "RG Sharma           123.092784\n",
       "Name: runs_off_bat, dtype: float64"
      ]
     },
     "execution_count": 21,
     "metadata": {},
     "output_type": "execute_result"
    }
   ],
   "source": [
    "Strike_rate = (Total_run/Ball_faced *100).sort_values(ascending=False)\n",
    "Strike_rate.head(10)"
   ]
  },
  {
   "cell_type": "code",
   "execution_count": 22,
   "metadata": {},
   "outputs": [
    {
     "data": {
      "text/plain": [
       "striker\n",
       "V Kohli               866\n",
       "Q de Kock             569\n",
       "R Ravindra            559\n",
       "HE van der Dussen     540\n",
       "M Labuschagne         519\n",
       "                     ... \n",
       "Tanzim Hasan Sakib      6\n",
       "JR Hazlewood            5\n",
       "MADI Hemantha           4\n",
       "Usama Mir               3\n",
       "AT Carey                2\n",
       "Name: runs_off_bat, Length: 146, dtype: int64"
      ]
     },
     "execution_count": 22,
     "metadata": {},
     "output_type": "execute_result"
    }
   ],
   "source": [
    "Balls_played = deliveries.groupby('striker')['runs_off_bat'].count().sort_values(ascending=False)\n",
    "Balls_played"
   ]
  },
  {
   "cell_type": "code",
   "execution_count": 23,
   "metadata": {},
   "outputs": [
    {
     "data": {
      "image/png": "[encoded data removed]",
      "text/plain": [
       "<Figure size 432x288 with 1 Axes>"
      ]
     },
     "metadata": {
      "needs_background": "light"
     },
     "output_type": "display_data"
    }
   ],
   "source": [
    "plt.bar(Strike_rate.head(10).index,Strike_rate.head(10).values )\n",
    "plt.title('Strike Rate (Top 10)')\n",
    "plt.xticks(rotation='vertical')\n",
    "plt.show()\n"
   ]
  },
  {
   "cell_type": "code",
   "execution_count": 24,
   "metadata": {},
   "outputs": [
    {
     "data": {
      "text/plain": [
       "striker\n",
       "RG Sharma       31\n",
       "SS Iyer         24\n",
       "DA Warner       24\n",
       "DJ Mitchell     22\n",
       "GJ Maxwell      22\n",
       "MR Marsh        21\n",
       "Q de Kock       21\n",
       "DA Miller       20\n",
       "H Klaasen       19\n",
       "Fakhar Zaman    18\n",
       "Name: runs_off_bat, dtype: int64"
      ]
     },
     "execution_count": 24,
     "metadata": {},
     "output_type": "execute_result"
    }
   ],
   "source": [
    "sixes = deliveries[deliveries['runs_off_bat'] == 6]\n",
    "\n",
    "sixes.groupby('striker')['runs_off_bat'].count().sort_values(ascending=False).head(10)"
   ]
  },
  {
   "cell_type": "code",
   "execution_count": 25,
   "metadata": {},
   "outputs": [
    {
     "data": {
      "image/png": "[encoded data removed]",
      "text/plain": [
       "<Figure size 432x288 with 1 Axes>"
      ]
     },
     "metadata": {
      "needs_background": "light"
     },
     "output_type": "display_data"
    }
   ],
   "source": [
    "plt.bar(sixes.groupby('striker')['runs_off_bat'].count().sort_values(ascending=False).head(10).index, sixes.groupby('striker')['runs_off_bat'].count().sort_values(ascending=False).head(10).values)\n",
    "plt.title('Sixes (Top 10)')\n",
    "plt.xticks(rotation='vertical')\n",
    "plt.show()"
   ]
  },
  {
   "cell_type": "code",
   "execution_count": 26,
   "metadata": {},
   "outputs": [
    {
     "data": {
      "text/plain": [
       "striker\n",
       "V Kohli        68\n",
       "RG Sharma      66\n",
       "Q de Kock      57\n",
       "R Ravindra     55\n",
       "DP Conway      54\n",
       "DJ Malan       50\n",
       "DA Warner      50\n",
       "DJ Mitchell    48\n",
       "AK Markram     44\n",
       "P Nissanka     44\n",
       "Name: runs_off_bat, dtype: int64"
      ]
     },
     "execution_count": 26,
     "metadata": {},
     "output_type": "execute_result"
    }
   ],
   "source": [
    "fours = deliveries[deliveries['runs_off_bat'] == 4]\n",
    "\n",
    "fours.groupby('striker')['runs_off_bat'].count().sort_values(ascending=False).head(10)"
   ]
  },
  {
   "cell_type": "code",
   "execution_count": 27,
   "metadata": {},
   "outputs": [
    {
     "data": {
      "image/png": "[encoded data removed]",
      "text/plain": [
       "<Figure size 432x288 with 1 Axes>"
      ]
     },
     "metadata": {
      "needs_background": "light"
     },
     "output_type": "display_data"
    }
   ],
   "source": [
    "plt.bar(fours.groupby('striker')['runs_off_bat'].count().sort_values(ascending=False).head(10).index, \n",
    "        fours.groupby('striker')['runs_off_bat'].count().sort_values(ascending=False).head(10).values)\n",
    "plt.title('Fours (Top 10)')\n",
    "plt.xticks(rotation='vertical')\n",
    "plt.show()"
   ]
  },
  {
   "cell_type": "markdown",
   "metadata": {},
   "source": [
    "# Bowling Analysis\n"
   ]
  },
  {
   "cell_type": "code",
   "execution_count": 28,
   "metadata": {},
   "outputs": [
    {
     "data": {
      "text/plain": [
       "bowler\n",
       "Mohammed Shami         25\n",
       "A Zampa                23\n",
       "D Madushanka           22\n",
       "G Coetzee              20\n",
       "JJ Bumrah              20\n",
       "JR Hazlewood           19\n",
       "MA Starc               18\n",
       "Shaheen Shah Afridi    18\n",
       "M Jansen               17\n",
       "MJ Santner             16\n",
       "Name: wicket_type, dtype: int64"
      ]
     },
     "execution_count": 28,
     "metadata": {},
     "output_type": "execute_result"
    }
   ],
   "source": [
    "deliveries.groupby('bowler')['wicket_type'].count().sort_values(ascending=False).head(10)"
   ]
  },
  {
   "cell_type": "code",
   "execution_count": 29,
   "metadata": {},
   "outputs": [
    {
     "data": {
      "image/png": "[encoded data removed]",
      "text/plain": [
       "<Figure size 432x288 with 1 Axes>"
      ]
     },
     "metadata": {
      "needs_background": "light"
     },
     "output_type": "display_data"
    }
   ],
   "source": [
    "plt.bar(deliveries.groupby('bowler')['wicket_type'].count().sort_values(ascending=False).head(10).index, \n",
    "        deliveries.groupby('bowler')['wicket_type'].count().sort_values(ascending=False).head(10).values)\n",
    "plt.title('Top 10 wicket taker')\n",
    "plt.xticks(rotation='vertical')\n",
    "plt.show()"
   ]
  },
  {
   "cell_type": "code",
   "execution_count": 30,
   "metadata": {},
   "outputs": [],
   "source": [
    "Run_conceded = deliveries.groupby('bowler')['runs_off_bat'].sum().sort_values(ascending=False)"
   ]
  },
  {
   "cell_type": "code",
   "execution_count": 31,
   "metadata": {},
   "outputs": [],
   "source": [
    "total_balls = deliveries.groupby('bowler')['runs_off_bat'].count().sort_values(ascending=False)"
   ]
  },
  {
   "cell_type": "code",
   "execution_count": 32,
   "metadata": {},
   "outputs": [
    {
     "data": {
      "text/plain": [
       "bowler\n",
       "R Ashwin         3.400000\n",
       "JJ Bumrah        3.633508\n",
       "KA Maharaj       3.963100\n",
       "Mohammad Nabi    4.048387\n",
       "Noor Ahmad       4.100000\n",
       "RA Jadeja        4.173451\n",
       "Rashid Khan      4.203390\n",
       "V Kohli          4.285714\n",
       "Kuldeep Yadav    4.382609\n",
       "AK Markram       4.407080\n",
       "Name: runs_off_bat, dtype: float64"
      ]
     },
     "execution_count": 32,
     "metadata": {},
     "output_type": "execute_result"
    }
   ],
   "source": [
    "economy_rates = (Run_conceded/total_balls *6).sort_values(ascending=True)\n",
    "economy_rates.head(10)"
   ]
  },
  {
   "cell_type": "code",
   "execution_count": 33,
   "metadata": {},
   "outputs": [
    {
     "data": {
      "image/png": "[encoded data removed]",
      "text/plain": [
       "<Figure size 432x288 with 1 Axes>"
      ]
     },
     "metadata": {
      "needs_background": "light"
     },
     "output_type": "display_data"
    }
   ],
   "source": [
    "plt.bar(economy_rates.head(10).index,economy_rates.head(10).values )\n",
    "plt.title('Economy_rates (Top 10)')\n",
    "plt.xticks(rotation='vertical')\n",
    "plt.show()"
   ]
  },
  {
   "cell_type": "code",
   "execution_count": 34,
   "metadata": {},
   "outputs": [],
   "source": [
    "def get_over(ball):\n",
    "    return str(ball).split('.')[0]\n",
    "deliveries['over'] = deliveries['ball'].apply(lambda x: get_over(x))"
   ]
  },
  {
   "cell_type": "code",
   "execution_count": 35,
   "metadata": {},
   "outputs": [
    {
     "data": {
      "text/html": [
       "<div>\n",
       "<style scoped>\n",
       "    .dataframe tbody tr th:only-of-type {\n",
       "        vertical-align: middle;\n",
       "    }\n",
       "\n",
       "    .dataframe tbody tr th {\n",
       "        vertical-align: top;\n",
       "    }\n",
       "\n",
       "    .dataframe thead th {\n",
       "        text-align: right;\n",
       "    }\n",
       "</style>\n",
       "<table border=\"1\" class=\"dataframe\">\n",
       "  <thead>\n",
       "    <tr style=\"text-align: right;\">\n",
       "      <th></th>\n",
       "      <th>match_id</th>\n",
       "      <th>season</th>\n",
       "      <th>start_date</th>\n",
       "      <th>venue</th>\n",
       "      <th>innings</th>\n",
       "      <th>ball</th>\n",
       "      <th>batting_team</th>\n",
       "      <th>bowling_team</th>\n",
       "      <th>striker</th>\n",
       "      <th>non_striker</th>\n",
       "      <th>...</th>\n",
       "      <th>noballs</th>\n",
       "      <th>byes</th>\n",
       "      <th>legbyes</th>\n",
       "      <th>penalty</th>\n",
       "      <th>wicket_type</th>\n",
       "      <th>player_dismissed</th>\n",
       "      <th>other_wicket_type</th>\n",
       "      <th>other_player_dismissed</th>\n",
       "      <th>partnership</th>\n",
       "      <th>over</th>\n",
       "    </tr>\n",
       "  </thead>\n",
       "  <tbody>\n",
       "    <tr>\n",
       "      <th>26114</th>\n",
       "      <td>45</td>\n",
       "      <td>2023/24</td>\n",
       "      <td>2023-11-12</td>\n",
       "      <td>M Chinnaswamy Stadium, Bengaluru</td>\n",
       "      <td>2</td>\n",
       "      <td>47.1</td>\n",
       "      <td>Netherlands</td>\n",
       "      <td>India</td>\n",
       "      <td>PA van Meekeren</td>\n",
       "      <td>AT Nidamanuru</td>\n",
       "      <td>...</td>\n",
       "      <td>NaN</td>\n",
       "      <td>NaN</td>\n",
       "      <td>NaN</td>\n",
       "      <td>NaN</td>\n",
       "      <td>NaN</td>\n",
       "      <td>NaN</td>\n",
       "      <td>NaN</td>\n",
       "      <td>NaN</td>\n",
       "      <td>PA van Meekeren &amp; AT Nidamanuru</td>\n",
       "      <td>47</td>\n",
       "    </tr>\n",
       "    <tr>\n",
       "      <th>26115</th>\n",
       "      <td>45</td>\n",
       "      <td>2023/24</td>\n",
       "      <td>2023-11-12</td>\n",
       "      <td>M Chinnaswamy Stadium, Bengaluru</td>\n",
       "      <td>2</td>\n",
       "      <td>47.2</td>\n",
       "      <td>Netherlands</td>\n",
       "      <td>India</td>\n",
       "      <td>PA van Meekeren</td>\n",
       "      <td>AT Nidamanuru</td>\n",
       "      <td>...</td>\n",
       "      <td>NaN</td>\n",
       "      <td>NaN</td>\n",
       "      <td>NaN</td>\n",
       "      <td>NaN</td>\n",
       "      <td>NaN</td>\n",
       "      <td>NaN</td>\n",
       "      <td>NaN</td>\n",
       "      <td>NaN</td>\n",
       "      <td>PA van Meekeren &amp; AT Nidamanuru</td>\n",
       "      <td>47</td>\n",
       "    </tr>\n",
       "    <tr>\n",
       "      <th>26116</th>\n",
       "      <td>45</td>\n",
       "      <td>2023/24</td>\n",
       "      <td>2023-11-12</td>\n",
       "      <td>M Chinnaswamy Stadium, Bengaluru</td>\n",
       "      <td>2</td>\n",
       "      <td>47.3</td>\n",
       "      <td>Netherlands</td>\n",
       "      <td>India</td>\n",
       "      <td>AT Nidamanuru</td>\n",
       "      <td>PA van Meekeren</td>\n",
       "      <td>...</td>\n",
       "      <td>NaN</td>\n",
       "      <td>NaN</td>\n",
       "      <td>NaN</td>\n",
       "      <td>NaN</td>\n",
       "      <td>NaN</td>\n",
       "      <td>NaN</td>\n",
       "      <td>NaN</td>\n",
       "      <td>NaN</td>\n",
       "      <td>AT Nidamanuru &amp; PA van Meekeren</td>\n",
       "      <td>47</td>\n",
       "    </tr>\n",
       "    <tr>\n",
       "      <th>26117</th>\n",
       "      <td>45</td>\n",
       "      <td>2023/24</td>\n",
       "      <td>2023-11-12</td>\n",
       "      <td>M Chinnaswamy Stadium, Bengaluru</td>\n",
       "      <td>2</td>\n",
       "      <td>47.4</td>\n",
       "      <td>Netherlands</td>\n",
       "      <td>India</td>\n",
       "      <td>AT Nidamanuru</td>\n",
       "      <td>PA van Meekeren</td>\n",
       "      <td>...</td>\n",
       "      <td>NaN</td>\n",
       "      <td>NaN</td>\n",
       "      <td>NaN</td>\n",
       "      <td>NaN</td>\n",
       "      <td>NaN</td>\n",
       "      <td>NaN</td>\n",
       "      <td>NaN</td>\n",
       "      <td>NaN</td>\n",
       "      <td>AT Nidamanuru &amp; PA van Meekeren</td>\n",
       "      <td>47</td>\n",
       "    </tr>\n",
       "    <tr>\n",
       "      <th>26118</th>\n",
       "      <td>45</td>\n",
       "      <td>2023/24</td>\n",
       "      <td>2023-11-12</td>\n",
       "      <td>M Chinnaswamy Stadium, Bengaluru</td>\n",
       "      <td>2</td>\n",
       "      <td>47.5</td>\n",
       "      <td>Netherlands</td>\n",
       "      <td>India</td>\n",
       "      <td>AT Nidamanuru</td>\n",
       "      <td>PA van Meekeren</td>\n",
       "      <td>...</td>\n",
       "      <td>NaN</td>\n",
       "      <td>NaN</td>\n",
       "      <td>NaN</td>\n",
       "      <td>NaN</td>\n",
       "      <td>caught</td>\n",
       "      <td>AT Nidamanuru</td>\n",
       "      <td>NaN</td>\n",
       "      <td>NaN</td>\n",
       "      <td>AT Nidamanuru &amp; PA van Meekeren</td>\n",
       "      <td>47</td>\n",
       "    </tr>\n",
       "  </tbody>\n",
       "</table>\n",
       "<p>5 rows × 24 columns</p>\n",
       "</div>"
      ],
      "text/plain": [
       "       match_id   season  start_date                             venue  \\\n",
       "26114        45  2023/24  2023-11-12  M Chinnaswamy Stadium, Bengaluru   \n",
       "26115        45  2023/24  2023-11-12  M Chinnaswamy Stadium, Bengaluru   \n",
       "26116        45  2023/24  2023-11-12  M Chinnaswamy Stadium, Bengaluru   \n",
       "26117        45  2023/24  2023-11-12  M Chinnaswamy Stadium, Bengaluru   \n",
       "26118        45  2023/24  2023-11-12  M Chinnaswamy Stadium, Bengaluru   \n",
       "\n",
       "       innings  ball batting_team bowling_team          striker  \\\n",
       "26114        2  47.1  Netherlands        India  PA van Meekeren   \n",
       "26115        2  47.2  Netherlands        India  PA van Meekeren   \n",
       "26116        2  47.3  Netherlands        India    AT Nidamanuru   \n",
       "26117        2  47.4  Netherlands        India    AT Nidamanuru   \n",
       "26118        2  47.5  Netherlands        India    AT Nidamanuru   \n",
       "\n",
       "           non_striker  ... noballs  byes  legbyes  penalty  wicket_type  \\\n",
       "26114    AT Nidamanuru  ...     NaN   NaN      NaN      NaN          NaN   \n",
       "26115    AT Nidamanuru  ...     NaN   NaN      NaN      NaN          NaN   \n",
       "26116  PA van Meekeren  ...     NaN   NaN      NaN      NaN          NaN   \n",
       "26117  PA van Meekeren  ...     NaN   NaN      NaN      NaN          NaN   \n",
       "26118  PA van Meekeren  ...     NaN   NaN      NaN      NaN       caught   \n",
       "\n",
       "       player_dismissed  other_wicket_type  other_player_dismissed  \\\n",
       "26114               NaN                NaN                     NaN   \n",
       "26115               NaN                NaN                     NaN   \n",
       "26116               NaN                NaN                     NaN   \n",
       "26117               NaN                NaN                     NaN   \n",
       "26118     AT Nidamanuru                NaN                     NaN   \n",
       "\n",
       "                           partnership over  \n",
       "26114  PA van Meekeren & AT Nidamanuru   47  \n",
       "26115  PA van Meekeren & AT Nidamanuru   47  \n",
       "26116  AT Nidamanuru & PA van Meekeren   47  \n",
       "26117  AT Nidamanuru & PA van Meekeren   47  \n",
       "26118  AT Nidamanuru & PA van Meekeren   47  \n",
       "\n",
       "[5 rows x 24 columns]"
      ]
     },
     "execution_count": 35,
     "metadata": {},
     "output_type": "execute_result"
    }
   ],
   "source": [
    "deliveries.tail()"
   ]
  },
  {
   "cell_type": "code",
   "execution_count": 36,
   "metadata": {},
   "outputs": [
    {
     "data": {
      "text/html": [
       "<div>\n",
       "<style scoped>\n",
       "    .dataframe tbody tr th:only-of-type {\n",
       "        vertical-align: middle;\n",
       "    }\n",
       "\n",
       "    .dataframe tbody tr th {\n",
       "        vertical-align: top;\n",
       "    }\n",
       "\n",
       "    .dataframe thead th {\n",
       "        text-align: right;\n",
       "    }\n",
       "</style>\n",
       "<table border=\"1\" class=\"dataframe\">\n",
       "  <thead>\n",
       "    <tr style=\"text-align: right;\">\n",
       "      <th></th>\n",
       "      <th>Extra_type</th>\n",
       "      <th>Total_extra_run</th>\n",
       "    </tr>\n",
       "  </thead>\n",
       "  <tbody>\n",
       "    <tr>\n",
       "      <th>0</th>\n",
       "      <td>wides</td>\n",
       "      <td>810.0</td>\n",
       "    </tr>\n",
       "    <tr>\n",
       "      <th>1</th>\n",
       "      <td>noballs</td>\n",
       "      <td>56.0</td>\n",
       "    </tr>\n",
       "    <tr>\n",
       "      <th>2</th>\n",
       "      <td>byes</td>\n",
       "      <td>89.0</td>\n",
       "    </tr>\n",
       "    <tr>\n",
       "      <th>3</th>\n",
       "      <td>legbyes</td>\n",
       "      <td>252.0</td>\n",
       "    </tr>\n",
       "    <tr>\n",
       "      <th>4</th>\n",
       "      <td>penalty</td>\n",
       "      <td>5.0</td>\n",
       "    </tr>\n",
       "  </tbody>\n",
       "</table>\n",
       "</div>"
      ],
      "text/plain": [
       "  Extra_type  Total_extra_run\n",
       "0      wides            810.0\n",
       "1    noballs             56.0\n",
       "2       byes             89.0\n",
       "3    legbyes            252.0\n",
       "4    penalty              5.0"
      ]
     },
     "execution_count": 36,
     "metadata": {},
     "output_type": "execute_result"
    }
   ],
   "source": [
    "Extra = pd.DataFrame({'Extra_type':['wides', 'noballs', 'byes', 'legbyes', 'penalty'], 'Total_extra_run':[deliveries.wides.sum(),deliveries.noballs.sum(),deliveries.byes.sum(),deliveries.legbyes.sum(),deliveries.penalty.sum()]})\n",
    "Extra"
   ]
  },
  {
   "cell_type": "code",
   "execution_count": 37,
   "metadata": {},
   "outputs": [
    {
     "data": {
      "image/png": "[encoded data removed]",
      "text/plain": [
       "<Figure size 432x288 with 1 Axes>"
      ]
     },
     "metadata": {},
     "output_type": "display_data"
    }
   ],
   "source": [
    "plt.pie(Extra[\"Total_extra_run\"], labels = Extra[\"Extra_type\"], autopct='%0.1f')\n",
    "plt.show()"
   ]
  },
  {
   "cell_type": "code",
   "execution_count": null,
   "metadata": {},
   "outputs": [],
   "source": []
  }
 ],
 "metadata": {
  "kernelspec": {
   "display_name": "Python 3",
   "language": "python",
   "name": "python3"
  },
  "language_info": {
   "codemirror_mode": {
    "name": "ipython",
    "version": 3
   },
   "file_extension": ".py",
   "mimetype": "text/x-python",
   "name": "python",
   "nbconvert_exporter": "python",
   "pygments_lexer": "ipython3",
   "version": "3.8.5"
  }
 },
 "nbformat": 4,
 "nbformat_minor": 4
}
